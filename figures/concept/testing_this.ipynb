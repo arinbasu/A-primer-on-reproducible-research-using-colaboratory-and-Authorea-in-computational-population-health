{
  "nbformat": 4,
  "nbformat_minor": 0,
  "metadata": {
    "colab": {
      "name": "testing_this.ipynb",
      "version": "0.3.2",
      "views": {},
      "default_view": {},
      "provenance": []
    },
    "kernelspec": {
      "name": "python3",
      "display_name": "Python 3"
    }
  },
  "cells": [
    {
      "metadata": {
        "id": "zGXH6WlvNCWJ",
        "colab_type": "code",
        "colab": {
          "autoexec": {
            "startup": false,
            "wait_interval": 0
          },
          "output_extras": [
            {
              "item_id": 1
            },
            {
              "item_id": 2
            }
          ],
          "base_uri": "https://localhost:8080/",
          "height": 263
        },
        "outputId": "b716bf72-608f-4829-d20d-4ea64808bb50",
        "executionInfo": {
          "status": "ok",
          "timestamp": 1515226167238,
          "user_tz": -780,
          "elapsed": 764,
          "user": {
            "displayName": "Arin Basu",
            "photoUrl": "//lh6.googleusercontent.com/-dmC5dAh2uR0/AAAAAAAAAAI/AAAAAAAAtwE/gprKMrxal3I/s50-c-k-no/photo.jpg",
            "userId": "117270655453846612117"
          }
        }
      },
      "source": [
        "%%bash\n",
        "git pull origin master\n",
        "ls \n",
        "cd figures\n",
        "ls"
      ],
      "cell_type": "code",
      "execution_count": 24,
      "outputs": [
        {
          "output_type": "stream",
          "text": [
            "Already up-to-date.\n",
            "bibliography\n",
            "datalab\n",
            "figures\n",
            "layout.md\n",
            "rl7omb9o3f.html\n",
            "title.html\n",
            "untitled.html\n",
            "bigdata2a\n",
            "concept\n",
            "EHRA\n"
          ],
          "name": "stdout"
        },
        {
          "output_type": "stream",
          "text": [
            "From https://github.com/arinbasu/A-primer-on-reproducible-research-using-colaboratory-and-Authorea-in-computational-population-health\n",
            " * branch            master     -> FETCH_HEAD\n"
          ],
          "name": "stderr"
        }
      ]
    },
    {
      "metadata": {
        "id": "Qf6QObz9QJo3",
        "colab_type": "code",
        "colab": {
          "autoexec": {
            "startup": false,
            "wait_interval": 0
          },
          "output_extras": [
            {
              "item_id": 1
            }
          ],
          "base_uri": "https://localhost:8080/",
          "height": 156
        },
        "outputId": "a7c8ffe8-df24-423e-e0da-cd0bbc041244",
        "executionInfo": {
          "status": "ok",
          "timestamp": 1515226264809,
          "user_tz": -780,
          "elapsed": 745,
          "user": {
            "displayName": "Arin Basu",
            "photoUrl": "//lh6.googleusercontent.com/-dmC5dAh2uR0/AAAAAAAAAAI/AAAAAAAAtwE/gprKMrxal3I/s50-c-k-no/photo.jpg",
            "userId": "117270655453846612117"
          }
        }
      },
      "source": [
        "%%bash\n",
        "pwd\n",
        "ls"
      ],
      "cell_type": "code",
      "execution_count": 31,
      "outputs": [
        {
          "output_type": "stream",
          "text": [
            "/content\n",
            "bibliography\n",
            "datalab\n",
            "figures\n",
            "layout.md\n",
            "rl7omb9o3f.html\n",
            "title.html\n",
            "untitled.html\n"
          ],
          "name": "stdout"
        }
      ]
    },
    {
      "metadata": {
        "id": "puLvaEw8hMj0",
        "colab_type": "code",
        "colab": {
          "autoexec": {
            "startup": false,
            "wait_interval": 0
          },
          "output_extras": [
            {
              "item_id": 1
            }
          ],
          "base_uri": "https://localhost:8080/",
          "height": 34
        },
        "outputId": "3f0de279-c180-4c61-9ef6-63ce498f1558",
        "executionInfo": {
          "status": "ok",
          "timestamp": 1515226968908,
          "user_tz": -780,
          "elapsed": 1248,
          "user": {
            "displayName": "Arin Basu",
            "photoUrl": "//lh6.googleusercontent.com/-dmC5dAh2uR0/AAAAAAAAAAI/AAAAAAAAtwE/gprKMrxal3I/s50-c-k-no/photo.jpg",
            "userId": "117270655453846612117"
          }
        }
      },
      "source": [
        "import pandas as pd\n",
        "mydata = pd.read_csv(\"figures/bigdata2a/bigdata2a.csv\")\n",
        "# read the first few rows\n",
        "mydata_head = mydata.head()\n",
        "mydata.shape"
      ],
      "cell_type": "code",
      "execution_count": 36,
      "outputs": [
        {
          "output_type": "execute_result",
          "data": {
            "text/plain": [
              "(406, 77)"
            ]
          },
          "metadata": {
            "tags": []
          },
          "execution_count": 36
        }
      ]
    },
    {
      "metadata": {
        "id": "gvIqL4-mjG3r",
        "colab_type": "code",
        "colab": {
          "autoexec": {
            "startup": false,
            "wait_interval": 0
          },
          "output_extras": [
            {
              "item_id": 1
            }
          ],
          "base_uri": "https://localhost:8080/",
          "height": 193
        },
        "outputId": "c6554637-d8c5-495d-a313-963e13cd6b6c",
        "executionInfo": {
          "status": "ok",
          "timestamp": 1515227305020,
          "user_tz": -780,
          "elapsed": 3039,
          "user": {
            "displayName": "Arin Basu",
            "photoUrl": "//lh6.googleusercontent.com/-dmC5dAh2uR0/AAAAAAAAAAI/AAAAAAAAtwE/gprKMrxal3I/s50-c-k-no/photo.jpg",
            "userId": "117270655453846612117"
          }
        }
      },
      "source": [
        "%%bash\n",
        "pip install dfply"
      ],
      "cell_type": "code",
      "execution_count": 38,
      "outputs": [
        {
          "output_type": "stream",
          "text": [
            "Collecting dfply\n",
            "  Downloading dfply-0.3.1-py3-none-any.whl (612kB)\n",
            "Requirement already satisfied: pandas in /usr/local/lib/python3.6/dist-packages (from dfply)\n",
            "Requirement already satisfied: numpy in /usr/local/lib/python3.6/dist-packages (from dfply)\n",
            "Requirement already satisfied: pytz>=2011k in /usr/local/lib/python3.6/dist-packages (from pandas->dfply)\n",
            "Requirement already satisfied: python-dateutil>=2 in /usr/local/lib/python3.6/dist-packages (from pandas->dfply)\n",
            "Requirement already satisfied: six>=1.5 in /usr/local/lib/python3.6/dist-packages (from python-dateutil>=2->pandas->dfply)\n",
            "Installing collected packages: dfply\n",
            "Successfully installed dfply-0.3.1\n"
          ],
          "name": "stdout"
        }
      ]
    },
    {
      "metadata": {
        "id": "JnJ_JIxplYse",
        "colab_type": "code",
        "colab": {
          "autoexec": {
            "startup": false,
            "wait_interval": 0
          }
        }
      },
      "source": [
        "from dfply import *\n"
      ],
      "cell_type": "code",
      "execution_count": 0,
      "outputs": []
    },
    {
      "metadata": {
        "id": "Ikg4qy-GmOzB",
        "colab_type": "code",
        "colab": {
          "autoexec": {
            "startup": false,
            "wait_interval": 0
          },
          "output_extras": [
            {
              "item_id": 1
            }
          ],
          "base_uri": "https://localhost:8080/",
          "height": 256
        },
        "outputId": "94be18ad-ae51-4d7c-99de-4471f12296a7",
        "executionInfo": {
          "status": "ok",
          "timestamp": 1515227519027,
          "user_tz": -780,
          "elapsed": 756,
          "user": {
            "displayName": "Arin Basu",
            "photoUrl": "//lh6.googleusercontent.com/-dmC5dAh2uR0/AAAAAAAAAAI/AAAAAAAAtwE/gprKMrxal3I/s50-c-k-no/photo.jpg",
            "userId": "117270655453846612117"
          }
        }
      },
      "source": [
        "mydata.head()"
      ],
      "cell_type": "code",
      "execution_count": 40,
      "outputs": [
        {
          "output_type": "execute_result",
          "data": {
            "text/html": [
              "<div>\n",
              "<style>\n",
              "    .dataframe thead tr:only-child th {\n",
              "        text-align: right;\n",
              "    }\n",
              "\n",
              "    .dataframe thead th {\n",
              "        text-align: left;\n",
              "    }\n",
              "\n",
              "    .dataframe tbody tr th {\n",
              "        vertical-align: top;\n",
              "    }\n",
              "</style>\n",
              "<table border=\"1\" class=\"dataframe\">\n",
              "  <thead>\n",
              "    <tr style=\"text-align: right;\">\n",
              "      <th></th>\n",
              "      <th>Subject</th>\n",
              "      <th>Status</th>\n",
              "      <th>Statrec</th>\n",
              "      <th>moisture</th>\n",
              "      <th>Proteinan</th>\n",
              "      <th>Protnveg</th>\n",
              "      <th>Fatanimal</th>\n",
              "      <th>Fatveg</th>\n",
              "      <th>carbohydr</th>\n",
              "      <th>fibre</th>\n",
              "      <th>...</th>\n",
              "      <th>in.as</th>\n",
              "      <th>mma</th>\n",
              "      <th>dma</th>\n",
              "      <th>totas</th>\n",
              "      <th>totasafs</th>\n",
              "      <th>total</th>\n",
              "      <th>mma.prop</th>\n",
              "      <th>dma.prop</th>\n",
              "      <th>in.prop</th>\n",
              "      <th>ratio</th>\n",
              "    </tr>\n",
              "  </thead>\n",
              "  <tbody>\n",
              "    <tr>\n",
              "      <th>0</th>\n",
              "      <td>AA001</td>\n",
              "      <td>case</td>\n",
              "      <td>1.0</td>\n",
              "      <td>237.40</td>\n",
              "      <td>9.47</td>\n",
              "      <td>60.89</td>\n",
              "      <td>4.96</td>\n",
              "      <td>26.31</td>\n",
              "      <td>489.19</td>\n",
              "      <td>3.15</td>\n",
              "      <td>...</td>\n",
              "      <td>9.9</td>\n",
              "      <td>12.1</td>\n",
              "      <td>91.3</td>\n",
              "      <td>113.3</td>\n",
              "      <td>117</td>\n",
              "      <td>113.3</td>\n",
              "      <td>0.106796</td>\n",
              "      <td>0.805825</td>\n",
              "      <td>0.087379</td>\n",
              "      <td>0.132530</td>\n",
              "    </tr>\n",
              "    <tr>\n",
              "      <th>1</th>\n",
              "      <td>AB002</td>\n",
              "      <td>control</td>\n",
              "      <td>0.0</td>\n",
              "      <td>489.95</td>\n",
              "      <td>1.49</td>\n",
              "      <td>70.63</td>\n",
              "      <td>0.13</td>\n",
              "      <td>15.46</td>\n",
              "      <td>837.89</td>\n",
              "      <td>4.57</td>\n",
              "      <td>...</td>\n",
              "      <td>152.8</td>\n",
              "      <td>62.4</td>\n",
              "      <td>622</td>\n",
              "      <td>837.2</td>\n",
              "      <td>923</td>\n",
              "      <td>837.2</td>\n",
              "      <td>0.074534</td>\n",
              "      <td>0.742953</td>\n",
              "      <td>0.182513</td>\n",
              "      <td>0.100322</td>\n",
              "    </tr>\n",
              "    <tr>\n",
              "      <th>2</th>\n",
              "      <td>AC003</td>\n",
              "      <td>control</td>\n",
              "      <td>0.0</td>\n",
              "      <td>470.17</td>\n",
              "      <td>17.86</td>\n",
              "      <td>69.24</td>\n",
              "      <td>7.74</td>\n",
              "      <td>16.36</td>\n",
              "      <td>659.96</td>\n",
              "      <td>8.61</td>\n",
              "      <td>...</td>\n",
              "      <td>15</td>\n",
              "      <td>26</td>\n",
              "      <td>106</td>\n",
              "      <td>147</td>\n",
              "      <td>159</td>\n",
              "      <td>147.0</td>\n",
              "      <td>0.176871</td>\n",
              "      <td>0.721088</td>\n",
              "      <td>0.102041</td>\n",
              "      <td>0.245283</td>\n",
              "    </tr>\n",
              "    <tr>\n",
              "      <th>3</th>\n",
              "      <td>AD004</td>\n",
              "      <td>control</td>\n",
              "      <td>0.0</td>\n",
              "      <td>352.08</td>\n",
              "      <td>3.08</td>\n",
              "      <td>60.99</td>\n",
              "      <td>0.26</td>\n",
              "      <td>17.14</td>\n",
              "      <td>679.13</td>\n",
              "      <td>3.18</td>\n",
              "      <td>...</td>\n",
              "      <td>107.2</td>\n",
              "      <td>54.3</td>\n",
              "      <td>478.6</td>\n",
              "      <td>640.1</td>\n",
              "      <td>644</td>\n",
              "      <td>640.1</td>\n",
              "      <td>0.084830</td>\n",
              "      <td>0.747696</td>\n",
              "      <td>0.167474</td>\n",
              "      <td>0.113456</td>\n",
              "    </tr>\n",
              "    <tr>\n",
              "      <th>4</th>\n",
              "      <td>AE005</td>\n",
              "      <td>control</td>\n",
              "      <td>0.0</td>\n",
              "      <td>514.70</td>\n",
              "      <td>5.63</td>\n",
              "      <td>46.24</td>\n",
              "      <td>5.77</td>\n",
              "      <td>13.11</td>\n",
              "      <td>403.51</td>\n",
              "      <td>6.03</td>\n",
              "      <td>...</td>\n",
              "      <td>117</td>\n",
              "      <td>155.9</td>\n",
              "      <td>643.2</td>\n",
              "      <td>916.1</td>\n",
              "      <td>925</td>\n",
              "      <td>916.1</td>\n",
              "      <td>0.170178</td>\n",
              "      <td>0.702107</td>\n",
              "      <td>0.127715</td>\n",
              "      <td>0.242382</td>\n",
              "    </tr>\n",
              "  </tbody>\n",
              "</table>\n",
              "<p>5 rows × 77 columns</p>\n",
              "</div>"
            ],
            "text/plain": [
              "  Subject   Status  Statrec  moisture  Proteinan  Protnveg  Fatanimal  Fatveg  \\\n",
              "0   AA001     case      1.0    237.40       9.47     60.89       4.96   26.31   \n",
              "1   AB002  control      0.0    489.95       1.49     70.63       0.13   15.46   \n",
              "2   AC003  control      0.0    470.17      17.86     69.24       7.74   16.36   \n",
              "3   AD004  control      0.0    352.08       3.08     60.99       0.26   17.14   \n",
              "4   AE005  control      0.0    514.70       5.63     46.24       5.77   13.11   \n",
              "\n",
              "   carbohydr  fibre    ...     in.as    mma    dma  totas  totasafs  total  \\\n",
              "0     489.19   3.15    ...       9.9   12.1   91.3  113.3       117  113.3   \n",
              "1     837.89   4.57    ...     152.8   62.4    622  837.2       923  837.2   \n",
              "2     659.96   8.61    ...        15     26    106    147       159  147.0   \n",
              "3     679.13   3.18    ...     107.2   54.3  478.6  640.1       644  640.1   \n",
              "4     403.51   6.03    ...       117  155.9  643.2  916.1       925  916.1   \n",
              "\n",
              "   mma.prop  dma.prop   in.prop     ratio  \n",
              "0  0.106796  0.805825  0.087379  0.132530  \n",
              "1  0.074534  0.742953  0.182513  0.100322  \n",
              "2  0.176871  0.721088  0.102041  0.245283  \n",
              "3  0.084830  0.747696  0.167474  0.113456  \n",
              "4  0.170178  0.702107  0.127715  0.242382  \n",
              "\n",
              "[5 rows x 77 columns]"
            ]
          },
          "metadata": {
            "tags": []
          },
          "execution_count": 40
        }
      ]
    },
    {
      "metadata": {
        "id": "S4rgdJFrmRRk",
        "colab_type": "code",
        "colab": {
          "autoexec": {
            "startup": false,
            "wait_interval": 0
          },
          "output_extras": [
            {
              "item_id": 1
            }
          ],
          "base_uri": "https://localhost:8080/",
          "height": 280
        },
        "outputId": "4ce1484f-810a-496a-c4a8-189beed1f569",
        "executionInfo": {
          "status": "ok",
          "timestamp": 1515227627224,
          "user_tz": -780,
          "elapsed": 4213,
          "user": {
            "displayName": "Arin Basu",
            "photoUrl": "//lh6.googleusercontent.com/-dmC5dAh2uR0/AAAAAAAAAAI/AAAAAAAAtwE/gprKMrxal3I/s50-c-k-no/photo.jpg",
            "userId": "117270655453846612117"
          }
        }
      },
      "source": [
        "%%bash\n",
        "pip install dplython"
      ],
      "cell_type": "code",
      "execution_count": 41,
      "outputs": [
        {
          "output_type": "stream",
          "text": [
            "Collecting dplython\n",
            "  Downloading dplython-0.0.7.tar.gz (715kB)\n",
            "Requirement already satisfied: numpy in /usr/local/lib/python3.6/dist-packages (from dplython)\n",
            "Requirement already satisfied: pandas in /usr/local/lib/python3.6/dist-packages (from dplython)\n",
            "Requirement already satisfied: six in /usr/local/lib/python3.6/dist-packages (from dplython)\n",
            "Requirement already satisfied: pytz>=2011k in /usr/local/lib/python3.6/dist-packages (from pandas->dplython)\n",
            "Requirement already satisfied: python-dateutil>=2 in /usr/local/lib/python3.6/dist-packages (from pandas->dplython)\n",
            "Building wheels for collected packages: dplython\n",
            "  Running setup.py bdist_wheel for dplython: started\n",
            "  Running setup.py bdist_wheel for dplython: finished with status 'done'\n",
            "  Stored in directory: /content/.cache/pip/wheels/dd/50/ba/1ff1d4b5dd4c5939da18da3efcb7d94c70cb9d331e8db773d5\n",
            "Successfully built dplython\n",
            "Installing collected packages: dplython\n",
            "Successfully installed dplython-0.0.7\n"
          ],
          "name": "stdout"
        }
      ]
    },
    {
      "metadata": {
        "id": "Bmp8ELgKmq2l",
        "colab_type": "code",
        "colab": {
          "autoexec": {
            "startup": false,
            "wait_interval": 0
          },
          "output_extras": [
            {
              "item_id": 1
            }
          ],
          "base_uri": "https://localhost:8080/",
          "height": 243
        },
        "outputId": "dc3e160e-26d8-4618-8d84-df47c6133f6e",
        "executionInfo": {
          "status": "ok",
          "timestamp": 1515227867015,
          "user_tz": -780,
          "elapsed": 747,
          "user": {
            "displayName": "Arin Basu",
            "photoUrl": "//lh6.googleusercontent.com/-dmC5dAh2uR0/AAAAAAAAAAI/AAAAAAAAtwE/gprKMrxal3I/s50-c-k-no/photo.jpg",
            "userId": "117270655453846612117"
          }
        }
      },
      "source": [
        "names = mydata.columns.values\n",
        "names"
      ],
      "cell_type": "code",
      "execution_count": 43,
      "outputs": [
        {
          "output_type": "execute_result",
          "data": {
            "text/plain": [
              "array(['Subject', 'Status', 'Statrec', 'moisture', 'Proteinan', 'Protnveg',\n",
              "       'Fatanimal', 'Fatveg', 'carbohydr', 'fibre', 'energy', 'calcium',\n",
              "       'phosph', 'iron', 'zinc', 'carotene', 'VitA', 'thyamine',\n",
              "       'riboflavin', 'niacin', 'VitB6', 'Folicfree', 'Folictotal', 'VitC',\n",
              "       'Totalnitr', 'arginine', 'histidine', 'lysine', 'tryptophan',\n",
              "       'phenylana', 'tyrosine', 'methionin', 'cystine', 'threonine',\n",
              "       'leucine', 'isoleucine', 'valine', 'Subject.1', 'Glucose', 'Chol',\n",
              "       'Trans', 'Vit.B12', 'Folate', 'Selen', 'Cysteine', 'GlutGSSG',\n",
              "       'GlutGSH', 'Homocyst', 'Retinol', 'Atoc', 'LutZea', 'Bcrypt',\n",
              "       'Lycopene', 'BetaCar', 'Vit.B6', 'Methion', 'SelenF', 'Subject1',\n",
              "       'Status.1', 'Statrec.1', 'Matchnumber', 'Fromset', 'Age', 'Sex',\n",
              "       'house', 'school', 'creat', 'in.as', 'mma', 'dma', 'totas',\n",
              "       'totasafs', 'total', 'mma.prop', 'dma.prop', 'in.prop', 'ratio'], dtype=object)"
            ]
          },
          "metadata": {
            "tags": []
          },
          "execution_count": 43
        }
      ]
    },
    {
      "metadata": {
        "id": "HmIOQF42nkoH",
        "colab_type": "code",
        "colab": {
          "autoexec": {
            "startup": false,
            "wait_interval": 0
          }
        }
      },
      "source": [
        "mydata.iloc[0:5, :]\n",
        "\n",
        "\"\"\"\n",
        "retrieve rows and columns by position\n",
        ": everything\n",
        "0:5 first five rows\n",
        "rows first, columns second\n",
        "\"\"\"\n",
        "# remove the first column and store the data\n",
        "# all rows, and from column 2 onwards\n",
        "\n",
        "mydata1 = mydata.iloc[:, 1:]\n",
        "mydata1.head()\n",
        "mydata1.index\n",
        "some_data = mydata1.iloc[10:20, ]\n",
        "some_data.head()\n",
        "mydata.loc[:5, [\"Status\",\"moisture\"]]\n",
        "some_data.to_csv(\"somedata.csv\")"
      ],
      "cell_type": "code",
      "execution_count": 0,
      "outputs": []
    },
    {
      "metadata": {
        "id": "MmKSSnZnqQjS",
        "colab_type": "code",
        "colab": {
          "autoexec": {
            "startup": false,
            "wait_interval": 0
          },
          "output_extras": [
            {
              "item_id": 1
            }
          ],
          "base_uri": "https://localhost:8080/",
          "height": 112
        },
        "outputId": "70807778-9dbe-40cc-d897-d94bde9257db",
        "executionInfo": {
          "status": "ok",
          "timestamp": 1515229886515,
          "user_tz": -780,
          "elapsed": 785,
          "user": {
            "displayName": "Arin Basu",
            "photoUrl": "//lh6.googleusercontent.com/-dmC5dAh2uR0/AAAAAAAAAAI/AAAAAAAAtwE/gprKMrxal3I/s50-c-k-no/photo.jpg",
            "userId": "117270655453846612117"
          }
        }
      },
      "source": [
        "type(mydata[\"moisture\"])\n",
        "s1 = pd.Series([1,2])\n",
        "s1\n",
        "s2 = pd.Series([\"A\", \"B\"])\n",
        "s2\n",
        "pd.DataFrame([s1,s2])"
      ],
      "cell_type": "code",
      "execution_count": 56,
      "outputs": [
        {
          "output_type": "execute_result",
          "data": {
            "text/html": [
              "<div>\n",
              "<style>\n",
              "    .dataframe thead tr:only-child th {\n",
              "        text-align: right;\n",
              "    }\n",
              "\n",
              "    .dataframe thead th {\n",
              "        text-align: left;\n",
              "    }\n",
              "\n",
              "    .dataframe tbody tr th {\n",
              "        vertical-align: top;\n",
              "    }\n",
              "</style>\n",
              "<table border=\"1\" class=\"dataframe\">\n",
              "  <thead>\n",
              "    <tr style=\"text-align: right;\">\n",
              "      <th></th>\n",
              "      <th>0</th>\n",
              "      <th>1</th>\n",
              "    </tr>\n",
              "  </thead>\n",
              "  <tbody>\n",
              "    <tr>\n",
              "      <th>0</th>\n",
              "      <td>1</td>\n",
              "      <td>2</td>\n",
              "    </tr>\n",
              "    <tr>\n",
              "      <th>1</th>\n",
              "      <td>A</td>\n",
              "      <td>B</td>\n",
              "    </tr>\n",
              "  </tbody>\n",
              "</table>\n",
              "</div>"
            ],
            "text/plain": [
              "   0  1\n",
              "0  1  2\n",
              "1  A  B"
            ]
          },
          "metadata": {
            "tags": []
          },
          "execution_count": 56
        }
      ]
    },
    {
      "metadata": {
        "id": "GNufx1NAulwl",
        "colab_type": "code",
        "colab": {
          "autoexec": {
            "startup": false,
            "wait_interval": 0
          },
          "output_extras": [
            {
              "item_id": 1
            }
          ],
          "base_uri": "https://localhost:8080/",
          "height": 1094
        },
        "outputId": "28e1cf1f-382d-4cba-dec9-6021bccd2cba",
        "executionInfo": {
          "status": "ok",
          "timestamp": 1515230254748,
          "user_tz": -780,
          "elapsed": 788,
          "user": {
            "displayName": "Arin Basu",
            "photoUrl": "//lh6.googleusercontent.com/-dmC5dAh2uR0/AAAAAAAAAAI/AAAAAAAAtwE/gprKMrxal3I/s50-c-k-no/photo.jpg",
            "userId": "117270655453846612117"
          }
        }
      },
      "source": [
        "mydata1[\"Status\"].head()\n",
        "mydata1[\"moisture\"].mean()\n",
        "mydata1.mean()\n",
        "mydata1.count()"
      ],
      "cell_type": "code",
      "execution_count": 60,
      "outputs": [
        {
          "output_type": "execute_result",
          "data": {
            "text/plain": [
              "Status         405\n",
              "Statrec        405\n",
              "moisture       406\n",
              "Proteinan      406\n",
              "Protnveg       406\n",
              "Fatanimal      406\n",
              "Fatveg         406\n",
              "carbohydr      406\n",
              "fibre          406\n",
              "energy         406\n",
              "calcium        406\n",
              "phosph         406\n",
              "iron           406\n",
              "zinc           406\n",
              "carotene       406\n",
              "VitA           406\n",
              "thyamine       406\n",
              "riboflavin     406\n",
              "niacin         405\n",
              "VitB6          406\n",
              "Folicfree      406\n",
              "Folictotal     406\n",
              "VitC           406\n",
              "Totalnitr      406\n",
              "arginine       406\n",
              "histidine      406\n",
              "lysine         406\n",
              "tryptophan     406\n",
              "phenylana      405\n",
              "tyrosine       406\n",
              "              ... \n",
              "Homocyst       373\n",
              "Retinol        373\n",
              "Atoc           373\n",
              "LutZea         373\n",
              "Bcrypt         373\n",
              "Lycopene       370\n",
              "BetaCar        373\n",
              "Vit.B6         353\n",
              "Methion        364\n",
              "SelenF         220\n",
              "Subject1       405\n",
              "Status.1       405\n",
              "Statrec.1      405\n",
              "Matchnumber    384\n",
              "Fromset         79\n",
              "Age            405\n",
              "Sex            405\n",
              "house          401\n",
              "school         401\n",
              "creat          403\n",
              "in.as          404\n",
              "mma            404\n",
              "dma            404\n",
              "totas          394\n",
              "totasafs       405\n",
              "total          405\n",
              "mma.prop       402\n",
              "dma.prop       402\n",
              "in.prop        402\n",
              "ratio          402\n",
              "Length: 76, dtype: int64"
            ]
          },
          "metadata": {
            "tags": []
          },
          "execution_count": 60
        }
      ]
    },
    {
      "metadata": {
        "id": "5IK-OSnUv1QD",
        "colab_type": "code",
        "colab": {
          "autoexec": {
            "startup": false,
            "wait_interval": 0
          },
          "output_extras": [
            {
              "item_id": 1
            }
          ],
          "base_uri": "https://localhost:8080/",
          "height": 265
        },
        "outputId": "081b0c89-214c-4260-f227-988f772fe0c8",
        "executionInfo": {
          "status": "ok",
          "timestamp": 1515232408441,
          "user_tz": -780,
          "elapsed": 1025,
          "user": {
            "displayName": "Arin Basu",
            "photoUrl": "//lh6.googleusercontent.com/-dmC5dAh2uR0/AAAAAAAAAAI/AAAAAAAAtwE/gprKMrxal3I/s50-c-k-no/photo.jpg",
            "userId": "117270655453846612117"
          }
        }
      },
      "source": [
        "%matplotlib inline\n",
        "import matplotlib.pyplot as plt\n",
        "mydata1[mydata1[\"Status\"] == \"case\"][\"moisture\"].plot(kind=\"hist\")\n",
        "myhist = mydata1[\"moisture\"].plot(kind = \"hist\")\n",
        "plt.savefig(\"myhist.jpg\")"
      ],
      "cell_type": "code",
      "execution_count": 65,
      "outputs": [
        {
          "output_type": "display_data",
          "data": {
            "image/png": "[encoded data removed]",
            "text/plain": [
              "<matplotlib.figure.Figure at 0x7febcaa2d128>"
            ]
          },
          "metadata": {
            "tags": []
          }
        }
      ]
    },
    {
      "metadata": {
        "id": "xENqv7Sd0LVG",
        "colab_type": "code",
        "colab": {
          "autoexec": {
            "startup": false,
            "wait_interval": 0
          }
        }
      },
      "source": [
        "%%bash\n",
        "ls\n",
        "mkdir figures/myhist\n",
        "mkdir figures/somedata\n",
        "cp myhist.jpg figures/myhist\n",
        "cp somedata.csv figures/somedata\n"
      ],
      "cell_type": "code",
      "execution_count": 0,
      "outputs": []
    },
    {
      "metadata": {
        "id": "KS7PJSGy7GuS",
        "colab_type": "code",
        "colab": {
          "autoexec": {
            "startup": false,
            "wait_interval": 0
          }
        }
      },
      "source": [
        "%%bash\n",
        "\n",
        "cp figures/bigdata2a/caption.html figures/somedata\n",
        "cp figures/bigdata2a/config.yml figures/somedata\n",
        "cp figures/concept/caption.html figures/myhist\n",
        "cp figures/concept/config.yml figures/myhist"
      ],
      "cell_type": "code",
      "execution_count": 0,
      "outputs": []
    },
    {
      "metadata": {
        "id": "uDAsXqlw8FHM",
        "colab_type": "code",
        "colab": {
          "autoexec": {
            "startup": false,
            "wait_interval": 0
          }
        }
      },
      "source": [
        "%%bash\n",
        "\n",
        "git config --global user.email \"arin.basu@gmail.com\"\n",
        "git config --global user.name \"arinbasu\""
      ],
      "cell_type": "code",
      "execution_count": 0,
      "outputs": []
    },
    {
      "metadata": {
        "id": "lfsMvtuw8ZlI",
        "colab_type": "code",
        "colab": {
          "autoexec": {
            "startup": false,
            "wait_interval": 0
          },
          "output_extras": [
            {
              "item_id": 1
            },
            {
              "item_id": 2
            }
          ],
          "base_uri": "https://localhost:8080/",
          "height": 69
        },
        "outputId": "373c2cba-ae39-4f2f-bdbb-f6fa47e9b615",
        "executionInfo": {
          "status": "ok",
          "timestamp": 1515233606592,
          "user_tz": -780,
          "elapsed": 739,
          "user": {
            "displayName": "Arin Basu",
            "photoUrl": "//lh6.googleusercontent.com/-dmC5dAh2uR0/AAAAAAAAAAI/AAAAAAAAtwE/gprKMrxal3I/s50-c-k-no/photo.jpg",
            "userId": "117270655453846612117"
          }
        }
      },
      "source": [
        "%%bash\n",
        "git add .\n",
        "git commit -m \"added several files\"\n",
        "git push -u origin master "
      ],
      "cell_type": "code",
      "execution_count": 82,
      "outputs": [
        {
          "output_type": "stream",
          "text": [
            "[master ae91810] added several files\n",
            " 2 files changed, 1 insertion(+), 1 deletion(-)\n"
          ],
          "name": "stdout"
        },
        {
          "output_type": "stream",
          "text": [
            "fatal: could not read Username for 'https://github.com': No such device or address\n"
          ],
          "name": "stderr"
        }
      ]
    },
    {
      "metadata": {
        "id": "gI6-FCxR83Zq",
        "colab_type": "code",
        "colab": {
          "autoexec": {
            "startup": false,
            "wait_interval": 0
          },
          "output_extras": [
            {
              "item_id": 1
            },
            {
              "item_id": 2
            }
          ],
          "base_uri": "https://localhost:8080/",
          "height": 89
        },
        "outputId": "2e0662d3-c186-4eb9-a799-9aaa54c30b0c",
        "executionInfo": {
          "status": "ok",
          "timestamp": 1515233573756,
          "user_tz": -780,
          "elapsed": 776,
          "user": {
            "displayName": "Arin Basu",
            "photoUrl": "//lh6.googleusercontent.com/-dmC5dAh2uR0/AAAAAAAAAAI/AAAAAAAAtwE/gprKMrxal3I/s50-c-k-no/photo.jpg",
            "userId": "117270655453846612117"
          }
        }
      },
      "source": [
        "%%bash\n",
        "git pull origin master"
      ],
      "cell_type": "code",
      "execution_count": 80,
      "outputs": [
        {
          "output_type": "stream",
          "text": [
            "Already up-to-date.\n"
          ],
          "name": "stdout"
        },
        {
          "output_type": "stream",
          "text": [
            "From https://github.com/arinbasu/A-primer-on-reproducible-research-using-colaboratory-and-Authorea-in-computational-population-health\n",
            " * branch            master     -> FETCH_HEAD\n"
          ],
          "name": "stderr"
        }
      ]
    },
    {
      "metadata": {
        "id": "CEa84fXr9UC-",
        "colab_type": "code",
        "colab": {
          "autoexec": {
            "startup": false,
            "wait_interval": 0
          },
          "output_extras": [
            {
              "item_id": 1
            }
          ],
          "base_uri": "https://localhost:8080/",
          "height": 72
        },
        "outputId": "e0dc2c73-0e91-41fc-ce06-7a5437ba93b9",
        "executionInfo": {
          "status": "ok",
          "timestamp": 1515233943900,
          "user_tz": -780,
          "elapsed": 883,
          "user": {
            "displayName": "Arin Basu",
            "photoUrl": "//lh6.googleusercontent.com/-dmC5dAh2uR0/AAAAAAAAAAI/AAAAAAAAtwE/gprKMrxal3I/s50-c-k-no/photo.jpg",
            "userId": "117270655453846612117"
          }
        }
      },
      "source": [
        "%%bash\n",
        "git remote -v"
      ],
      "cell_type": "code",
      "execution_count": 87,
      "outputs": [
        {
          "output_type": "stream",
          "text": [
            "origin\thttps://github.com/arinbasu/A-primer-on-reproducible-research-using-colaboratory-and-Authorea-in-computational-population-health.git (fetch)\n",
            "origin\thttps://github.com/arinbasu/A-primer-on-reproducible-research-using-colaboratory-and-Authorea-in-computational-population-health.git (push)\n"
          ],
          "name": "stdout"
        }
      ]
    },
    {
      "metadata": {
        "id": "pwTaxD6K91Xz",
        "colab_type": "code",
        "colab": {
          "autoexec": {
            "startup": false,
            "wait_interval": 0
          },
          "output_extras": [
            {
              "item_id": 1
            }
          ],
          "base_uri": "https://localhost:8080/",
          "height": 34
        },
        "outputId": "d4f67885-7a33-4ded-bc75-a3c23c330431",
        "executionInfo": {
          "status": "ok",
          "timestamp": 1515235662978,
          "user_tz": -780,
          "elapsed": 904,
          "user": {
            "displayName": "Arin Basu",
            "photoUrl": "//lh6.googleusercontent.com/-dmC5dAh2uR0/AAAAAAAAAAI/AAAAAAAAtwE/gprKMrxal3I/s50-c-k-no/photo.jpg",
            "userId": "117270655453846612117"
          }
        }
      },
      "source": [
        "%%bash\n",
        "git config credential.helper store\n",
        "git push -u https://github.com/arinbasu/A-primer-on-reproducible-research-using-colaboratory-and-Authorea-in-computational-population-health.git master"
      ],
      "cell_type": "code",
      "execution_count": 111,
      "outputs": [
        {
          "output_type": "stream",
          "text": [
            "fatal: could not read Username for 'https://github.com': No such device or address\n"
          ],
          "name": "stderr"
        }
      ]
    },
    {
      "metadata": {
        "id": "Gw5UQDyR_VA4",
        "colab_type": "code",
        "colab": {
          "autoexec": {
            "startup": false,
            "wait_interval": 0
          }
        }
      },
      "source": [
        "%%bash\n",
        "git remote set-url origin https://github.com/arinbasu/A-primer-on-reproducible-research-using-colaboratory-and-Authorea-in-computational-population-health.git"
      ],
      "cell_type": "code",
      "execution_count": 0,
      "outputs": []
    },
    {
      "metadata": {
        "id": "pkdRrgry_iTJ",
        "colab_type": "code",
        "colab": {
          "autoexec": {
            "startup": false,
            "wait_interval": 0
          },
          "output_extras": [
            {
              "item_id": 1
            }
          ],
          "base_uri": "https://localhost:8080/",
          "height": 72
        },
        "outputId": "adaf513f-167f-4ba4-eb1f-af8b780fd9b9",
        "executionInfo": {
          "status": "ok",
          "timestamp": 1515234544152,
          "user_tz": -780,
          "elapsed": 794,
          "user": {
            "displayName": "Arin Basu",
            "photoUrl": "//lh6.googleusercontent.com/-dmC5dAh2uR0/AAAAAAAAAAI/AAAAAAAAtwE/gprKMrxal3I/s50-c-k-no/photo.jpg",
            "userId": "117270655453846612117"
          }
        }
      },
      "source": [
        "%%bash\n",
        "git remote -v"
      ],
      "cell_type": "code",
      "execution_count": 97,
      "outputs": [
        {
          "output_type": "stream",
          "text": [
            "origin\thttps://github.com/arinbasu/A-primer-on-reproducible-research-using-colaboratory-and-Authorea-in-computational-population-health.git (fetch)\n",
            "origin\thttps://github.com/arinbasu/A-primer-on-reproducible-research-using-colaboratory-and-Authorea-in-computational-population-health.git (push)\n"
          ],
          "name": "stdout"
        }
      ]
    },
    {
      "metadata": {
        "id": "L78SfS-qAY5R",
        "colab_type": "code",
        "colab": {
          "autoexec": {
            "startup": false,
            "wait_interval": 0
          }
        }
      },
      "source": [
        "%%bash\n",
        "git config --local user.name \"arinbasu\""
      ],
      "cell_type": "code",
      "execution_count": 0,
      "outputs": []
    },
    {
      "metadata": {
        "id": "l1r9R_I4Bdzc",
        "colab_type": "code",
        "colab": {
          "autoexec": {
            "startup": false,
            "wait_interval": 0
          },
          "output_extras": [
            {
              "item_id": 1
            },
            {
              "item_id": 2
            }
          ],
          "base_uri": "https://localhost:8080/",
          "height": 69
        },
        "outputId": "9f79ab5a-d3a6-4da1-c624-649e83bfcd29",
        "executionInfo": {
          "status": "ok",
          "timestamp": 1515235167836,
          "user_tz": -780,
          "elapsed": 1127,
          "user": {
            "displayName": "Arin Basu",
            "photoUrl": "//lh6.googleusercontent.com/-dmC5dAh2uR0/AAAAAAAAAAI/AAAAAAAAtwE/gprKMrxal3I/s50-c-k-no/photo.jpg",
            "userId": "117270655453846612117"
          }
        }
      },
      "source": [
        "%%bash\n",
        "git add .\n",
        "git commit -m \"changed files\"\n",
        "git push -u origin master"
      ],
      "cell_type": "code",
      "execution_count": 107,
      "outputs": [
        {
          "output_type": "stream",
          "text": [
            "[master bc42219] changed files\n",
            " 2 files changed, 1 insertion(+), 1 deletion(-)\n"
          ],
          "name": "stdout"
        },
        {
          "output_type": "stream",
          "text": [
            "fatal: could not read Username for 'https://github.com': No such device or address\n"
          ],
          "name": "stderr"
        }
      ]
    },
    {
      "metadata": {
        "id": "Jx3Zqua8Bylv",
        "colab_type": "code",
        "colab": {
          "autoexec": {
            "startup": false,
            "wait_interval": 0
          },
          "output_extras": [
            {
              "item_id": 1
            }
          ],
          "base_uri": "https://localhost:8080/",
          "height": 34
        },
        "outputId": "47ce950c-dcdf-410d-ca5b-27e1a92a7c84",
        "executionInfo": {
          "status": "ok",
          "timestamp": 1515235548899,
          "user_tz": -780,
          "elapsed": 970,
          "user": {
            "displayName": "Arin Basu",
            "photoUrl": "//lh6.googleusercontent.com/-dmC5dAh2uR0/AAAAAAAAAAI/AAAAAAAAtwE/gprKMrxal3I/s50-c-k-no/photo.jpg",
            "userId": "117270655453846612117"
          }
        }
      },
      "source": [
        "%%bash\n",
        "git config --global credential.helper\n",
        "git push -u origin master"
      ],
      "cell_type": "code",
      "execution_count": 110,
      "outputs": [
        {
          "output_type": "stream",
          "text": [
            "fatal: could not read Username for 'https://github.com': No such device or address\n"
          ],
          "name": "stderr"
        }
      ]
    },
    {
      "metadata": {
        "id": "HqD2P8R_CfgZ",
        "colab_type": "code",
        "colab": {
          "autoexec": {
            "startup": false,
            "wait_interval": 0
          },
          "output_extras": [
            {
              "item_id": 1
            }
          ],
          "base_uri": "https://localhost:8080/",
          "height": 130
        },
        "outputId": "59bbf94f-54e4-4a49-ed7e-2b806b81619a",
        "executionInfo": {
          "status": "error",
          "timestamp": 1515235535368,
          "user_tz": -780,
          "elapsed": 828,
          "user": {
            "displayName": "Arin Basu",
            "photoUrl": "//lh6.googleusercontent.com/-dmC5dAh2uR0/AAAAAAAAAAI/AAAAAAAAtwE/gprKMrxal3I/s50-c-k-no/photo.jpg",
            "userId": "117270655453846612117"
          }
        }
      },
      "source": [
        ""
      ],
      "cell_type": "code",
      "execution_count": 109,
      "outputs": [
        {
          "output_type": "error",
          "ename": "SyntaxError",
          "evalue": "ignored",
          "traceback": [
            "\u001b[0;36m  File \u001b[0;32m\"<ipython-input-109-cdea89f33e20>\"\u001b[0;36m, line \u001b[0;32m1\u001b[0m\n\u001b[0;31m    git push -u origin master\u001b[0m\n\u001b[0m           ^\u001b[0m\n\u001b[0;31mSyntaxError\u001b[0m\u001b[0;31m:\u001b[0m invalid syntax\n"
          ]
        }
      ]
    },
    {
      "metadata": {
        "id": "5aAudw8UE2Xk",
        "colab_type": "code",
        "colab": {
          "autoexec": {
            "startup": false,
            "wait_interval": 0
          }
        }
      },
      "source": [
        ""
      ],
      "cell_type": "code",
      "execution_count": 0,
      "outputs": []
    }
  ]
}