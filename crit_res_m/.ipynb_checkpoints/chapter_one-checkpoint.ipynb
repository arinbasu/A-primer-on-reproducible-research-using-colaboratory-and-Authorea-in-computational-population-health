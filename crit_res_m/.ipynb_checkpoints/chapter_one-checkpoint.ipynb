{
 "cells": [
  {
   "cell_type": "markdown",
   "metadata": {},
   "source": [
    "## Purpose of this chapter\n",
    "\n",
    "The purpose of this chapter is to introduce you to the concepts of critical thinking and reading and writing. At the end of reading this chapter, you will understand how to \n",
    "\n",
    "1. Read critcially a book or a journal article\n",
    "2. How to spot explicit and implicit assumptions (premises)\n",
    "3. How to structure your logic and reasonings\n",
    "\n",
    "In this chapter, we are going to cover how you can spot what's missing. When you start writing your research proposal for your masters or your doctoral dissertation, you are required to identify what is missing in the current state of knowledge and identify what is new that you will contribute. This is how your structure of the arguments go:\n",
    "\n",
    "1. You start with what is known in the state of the art on the topic\n",
    "2. You will then identify what is missing or what is not known or not covered\n",
    "3. Moving in this sequence, you will need to provide your own solution to this new question\n",
    "\n",
    "Another way to address these issues is as follows. You start jotting down or listing all known \"facts\" on a topic. Then based on what you have observed, you develop a theory. The theory in turn will lead to one or more hypotheses. Usually there are rival hypotheses that refute one another. You will then collect data to test your theory. Your aim will be to refute the rival hypotheses to settle on one plausible hypothesis. "
   ]
  }
 ],
 "metadata": {
  "kernelspec": {
   "display_name": "Python 3",
   "language": "python",
   "name": "python3"
  },
  "language_info": {
   "codemirror_mode": {
    "name": "ipython",
    "version": 3
   },
   "file_extension": ".py",
   "mimetype": "text/x-python",
   "name": "python",
   "nbconvert_exporter": "python",
   "pygments_lexer": "ipython3",
   "version": "3.6.3"
  }
 },
 "nbformat": 4,
 "nbformat_minor": 2
}
