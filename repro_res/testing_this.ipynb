{
 "cells": [
  {
   "cell_type": "code",
   "execution_count": 3,
   "metadata": {
    "colab": {
     "autoexec": {
      "startup": false,
      "wait_interval": 0
     },
     "base_uri": "https://localhost:8080/",
     "height": 34,
     "output_extras": [
      {
       "item_id": 1
      }
     ]
    },
    "colab_type": "code",
    "executionInfo": {
     "elapsed": 1248,
     "status": "ok",
     "timestamp": 1515226968908,
     "user": {
      "displayName": "Arin Basu",
      "photoUrl": "//lh6.googleusercontent.com/-dmC5dAh2uR0/AAAAAAAAAAI/AAAAAAAAtwE/gprKMrxal3I/s50-c-k-no/photo.jpg",
      "userId": "117270655453846612117"
     },
     "user_tz": -780
    },
    "id": "puLvaEw8hMj0",
    "outputId": "3f0de279-c180-4c61-9ef6-63ce498f1558"
   },
   "outputs": [
    {
     "data": {
      "text/plain": [
       "(406, 77)"
      ]
     },
     "execution_count": 3,
     "metadata": {},
     "output_type": "execute_result"
    }
   ],
   "source": [
    "import pandas as pd\n",
    "mydata = pd.read_csv(\"bigdata2a.csv\")\n",
    "# read the first few rows\n",
    "mydata_head = mydata.head()\n",
    "mydata.shape"
   ]
  },
  {
   "cell_type": "code",
   "execution_count": 5,
   "metadata": {
    "colab": {
     "autoexec": {
      "startup": false,
      "wait_interval": 0
     }
    },
    "colab_type": "code",
    "id": "JnJ_JIxplYse"
   },
   "outputs": [],
   "source": [
    "from dfply import *\n"
   ]
  },
  {
   "cell_type": "code",
   "execution_count": 6,
   "metadata": {
    "colab": {
     "autoexec": {
      "startup": false,
      "wait_interval": 0
     },
     "base_uri": "https://localhost:8080/",
     "height": 256,
     "output_extras": [
      {
       "item_id": 1
      }
     ]
    },
    "colab_type": "code",
    "executionInfo": {
     "elapsed": 756,
     "status": "ok",
     "timestamp": 1515227519027,
     "user": {
      "displayName": "Arin Basu",
      "photoUrl": "//lh6.googleusercontent.com/-dmC5dAh2uR0/AAAAAAAAAAI/AAAAAAAAtwE/gprKMrxal3I/s50-c-k-no/photo.jpg",
      "userId": "117270655453846612117"
     },
     "user_tz": -780
    },
    "id": "Ikg4qy-GmOzB",
    "outputId": "94be18ad-ae51-4d7c-99de-4471f12296a7"
   },
   "outputs": [
    {
     "data": {
      "text/html": [
       "<div>\n",
       "<style>\n",
       "    .dataframe thead tr:only-child th {\n",
       "        text-align: right;\n",
       "    }\n",
       "\n",
       "    .dataframe thead th {\n",
       "        text-align: left;\n",
       "    }\n",
       "\n",
       "    .dataframe tbody tr th {\n",
       "        vertical-align: top;\n",
       "    }\n",
       "</style>\n",
       "<table border=\"1\" class=\"dataframe\">\n",
       "  <thead>\n",
       "    <tr style=\"text-align: right;\">\n",
       "      <th></th>\n",
       "      <th>Subject</th>\n",
       "      <th>Status</th>\n",
       "      <th>Statrec</th>\n",
       "      <th>moisture</th>\n",
       "      <th>Proteinan</th>\n",
       "      <th>Protnveg</th>\n",
       "      <th>Fatanimal</th>\n",
       "      <th>Fatveg</th>\n",
       "      <th>carbohydr</th>\n",
       "      <th>fibre</th>\n",
       "      <th>...</th>\n",
       "      <th>in.as</th>\n",
       "      <th>mma</th>\n",
       "      <th>dma</th>\n",
       "      <th>totas</th>\n",
       "      <th>totasafs</th>\n",
       "      <th>total</th>\n",
       "      <th>mma.prop</th>\n",
       "      <th>dma.prop</th>\n",
       "      <th>in.prop</th>\n",
       "      <th>ratio</th>\n",
       "    </tr>\n",
       "  </thead>\n",
       "  <tbody>\n",
       "    <tr>\n",
       "      <th>0</th>\n",
       "      <td>AA001</td>\n",
       "      <td>case</td>\n",
       "      <td>1.0</td>\n",
       "      <td>237.40</td>\n",
       "      <td>9.47</td>\n",
       "      <td>60.89</td>\n",
       "      <td>4.96</td>\n",
       "      <td>26.31</td>\n",
       "      <td>489.19</td>\n",
       "      <td>3.15</td>\n",
       "      <td>...</td>\n",
       "      <td>9.9</td>\n",
       "      <td>12.1</td>\n",
       "      <td>91.3</td>\n",
       "      <td>113.3</td>\n",
       "      <td>117</td>\n",
       "      <td>113.3</td>\n",
       "      <td>0.106796</td>\n",
       "      <td>0.805825</td>\n",
       "      <td>0.087379</td>\n",
       "      <td>0.132530</td>\n",
       "    </tr>\n",
       "    <tr>\n",
       "      <th>1</th>\n",
       "      <td>AB002</td>\n",
       "      <td>control</td>\n",
       "      <td>0.0</td>\n",
       "      <td>489.95</td>\n",
       "      <td>1.49</td>\n",
       "      <td>70.63</td>\n",
       "      <td>0.13</td>\n",
       "      <td>15.46</td>\n",
       "      <td>837.89</td>\n",
       "      <td>4.57</td>\n",
       "      <td>...</td>\n",
       "      <td>152.8</td>\n",
       "      <td>62.4</td>\n",
       "      <td>622</td>\n",
       "      <td>837.2</td>\n",
       "      <td>923</td>\n",
       "      <td>837.2</td>\n",
       "      <td>0.074534</td>\n",
       "      <td>0.742953</td>\n",
       "      <td>0.182513</td>\n",
       "      <td>0.100322</td>\n",
       "    </tr>\n",
       "    <tr>\n",
       "      <th>2</th>\n",
       "      <td>AC003</td>\n",
       "      <td>control</td>\n",
       "      <td>0.0</td>\n",
       "      <td>470.17</td>\n",
       "      <td>17.86</td>\n",
       "      <td>69.24</td>\n",
       "      <td>7.74</td>\n",
       "      <td>16.36</td>\n",
       "      <td>659.96</td>\n",
       "      <td>8.61</td>\n",
       "      <td>...</td>\n",
       "      <td>15</td>\n",
       "      <td>26</td>\n",
       "      <td>106</td>\n",
       "      <td>147</td>\n",
       "      <td>159</td>\n",
       "      <td>147.0</td>\n",
       "      <td>0.176871</td>\n",
       "      <td>0.721088</td>\n",
       "      <td>0.102041</td>\n",
       "      <td>0.245283</td>\n",
       "    </tr>\n",
       "    <tr>\n",
       "      <th>3</th>\n",
       "      <td>AD004</td>\n",
       "      <td>control</td>\n",
       "      <td>0.0</td>\n",
       "      <td>352.08</td>\n",
       "      <td>3.08</td>\n",
       "      <td>60.99</td>\n",
       "      <td>0.26</td>\n",
       "      <td>17.14</td>\n",
       "      <td>679.13</td>\n",
       "      <td>3.18</td>\n",
       "      <td>...</td>\n",
       "      <td>107.2</td>\n",
       "      <td>54.3</td>\n",
       "      <td>478.6</td>\n",
       "      <td>640.1</td>\n",
       "      <td>644</td>\n",
       "      <td>640.1</td>\n",
       "      <td>0.084830</td>\n",
       "      <td>0.747696</td>\n",
       "      <td>0.167474</td>\n",
       "      <td>0.113456</td>\n",
       "    </tr>\n",
       "    <tr>\n",
       "      <th>4</th>\n",
       "      <td>AE005</td>\n",
       "      <td>control</td>\n",
       "      <td>0.0</td>\n",
       "      <td>514.70</td>\n",
       "      <td>5.63</td>\n",
       "      <td>46.24</td>\n",
       "      <td>5.77</td>\n",
       "      <td>13.11</td>\n",
       "      <td>403.51</td>\n",
       "      <td>6.03</td>\n",
       "      <td>...</td>\n",
       "      <td>117</td>\n",
       "      <td>155.9</td>\n",
       "      <td>643.2</td>\n",
       "      <td>916.1</td>\n",
       "      <td>925</td>\n",
       "      <td>916.1</td>\n",
       "      <td>0.170178</td>\n",
       "      <td>0.702107</td>\n",
       "      <td>0.127715</td>\n",
       "      <td>0.242382</td>\n",
       "    </tr>\n",
       "  </tbody>\n",
       "</table>\n",
       "<p>5 rows × 77 columns</p>\n",
       "</div>"
      ],
      "text/plain": [
       "  Subject   Status  Statrec  moisture  Proteinan  Protnveg  Fatanimal  Fatveg  \\\n",
       "0   AA001     case      1.0    237.40       9.47     60.89       4.96   26.31   \n",
       "1   AB002  control      0.0    489.95       1.49     70.63       0.13   15.46   \n",
       "2   AC003  control      0.0    470.17      17.86     69.24       7.74   16.36   \n",
       "3   AD004  control      0.0    352.08       3.08     60.99       0.26   17.14   \n",
       "4   AE005  control      0.0    514.70       5.63     46.24       5.77   13.11   \n",
       "\n",
       "   carbohydr  fibre    ...     in.as    mma    dma  totas  totasafs  total  \\\n",
       "0     489.19   3.15    ...       9.9   12.1   91.3  113.3       117  113.3   \n",
       "1     837.89   4.57    ...     152.8   62.4    622  837.2       923  837.2   \n",
       "2     659.96   8.61    ...        15     26    106    147       159  147.0   \n",
       "3     679.13   3.18    ...     107.2   54.3  478.6  640.1       644  640.1   \n",
       "4     403.51   6.03    ...       117  155.9  643.2  916.1       925  916.1   \n",
       "\n",
       "   mma.prop  dma.prop   in.prop     ratio  \n",
       "0  0.106796  0.805825  0.087379  0.132530  \n",
       "1  0.074534  0.742953  0.182513  0.100322  \n",
       "2  0.176871  0.721088  0.102041  0.245283  \n",
       "3  0.084830  0.747696  0.167474  0.113456  \n",
       "4  0.170178  0.702107  0.127715  0.242382  \n",
       "\n",
       "[5 rows x 77 columns]"
      ]
     },
     "execution_count": 6,
     "metadata": {},
     "output_type": "execute_result"
    }
   ],
   "source": [
    "mydata.head()"
   ]
  },
  {
   "cell_type": "code",
   "execution_count": 13,
   "metadata": {
    "colab": {
     "autoexec": {
      "startup": false,
      "wait_interval": 0
     },
     "base_uri": "https://localhost:8080/",
     "height": 265,
     "output_extras": [
      {
       "item_id": 1
      }
     ]
    },
    "colab_type": "code",
    "executionInfo": {
     "elapsed": 1025,
     "status": "ok",
     "timestamp": 1515232408441,
     "user": {
      "displayName": "Arin Basu",
      "photoUrl": "//lh6.googleusercontent.com/-dmC5dAh2uR0/AAAAAAAAAAI/AAAAAAAAtwE/gprKMrxal3I/s50-c-k-no/photo.jpg",
      "userId": "117270655453846612117"
     },
     "user_tz": -780
    },
    "id": "5IK-OSnUv1QD",
    "outputId": "081b0c89-214c-4260-f227-988f772fe0c8"
   },
   "outputs": [
    {
     "data": {
      "image/png": "[encoded data removed]",
      "text/plain": [
       "<matplotlib.figure.Figure at 0x109c7e390>"
      ]
     },
     "metadata": {},
     "output_type": "display_data"
    }
   ],
   "source": [
    "%matplotlib inline\n",
    "import matplotlib.pyplot as plt\n",
    "mydata[mydata[\"Status\"] == \"case\"][\"moisture\"].plot(kind=\"hist\")\n",
    "myhist = mydata[\"moisture\"].plot(kind = \"hist\")\n",
    "plt.savefig(\"myhist.jpg\")"
   ]
  },
  {
   "cell_type": "code",
   "execution_count": 14,
   "metadata": {
    "colab": {
     "autoexec": {
      "startup": false,
      "wait_interval": 0
     }
    },
    "colab_type": "code",
    "id": "xENqv7Sd0LVG"
   },
   "outputs": [
    {
     "name": "stdout",
     "output_type": "stream",
     "text": [
      "/Users/arindambose/Documents/repro_res\n",
      "bigdata2a.csv\n",
      "myhist.jpg\n",
      "testing_this.ipynb\n"
     ]
    }
   ],
   "source": [
    "%%bash\n",
    "pwd\n",
    "ls\n"
   ]
  },
  {
   "cell_type": "code",
   "execution_count": 15,
   "metadata": {
    "colab": {
     "autoexec": {
      "startup": false,
      "wait_interval": 0
     }
    },
    "colab_type": "code",
    "id": "KS7PJSGy7GuS"
   },
   "outputs": [
    {
     "name": "stderr",
     "output_type": "stream",
     "text": [
      "2018-01-07 11:30:52.691 xcodebuild[961:45524] [MT] PluginLoading: Required plug-in compatibility UUID B395D63E-9166-4CD6-9287-6889D507AD6A for plug-in at path '~/Library/Application Support/Developer/Shared/Xcode/Plug-ins/Alcatraz.xcplugin' not present in DVTPlugInCompatibilityUUIDs\n"
     ]
    }
   ],
   "source": [
    "%%bash\n",
    "git remote add origin https://github.com/arinbasu/A-primer-on-reproducible-research-using-colaboratory-and-Authorea-in-computational-population-health.git"
   ]
  },
  {
   "cell_type": "code",
   "execution_count": 21,
   "metadata": {
    "colab": {
     "autoexec": {
      "startup": false,
      "wait_interval": 0
     }
    },
    "colab_type": "code",
    "id": "5aAudw8UE2Xk"
   },
   "outputs": [
    {
     "name": "stderr",
     "output_type": "stream",
     "text": [
      "From https://github.com/arinbasu/A-primer-on-reproducible-research-using-colaboratory-and-Authorea-in-computational-population-health\n",
      " * branch            master     -> FETCH_HEAD\n"
     ]
    }
   ],
   "source": [
    "%%bash\n",
    "git fetch origin master"
   ]
  },
  {
   "cell_type": "code",
   "execution_count": 24,
   "metadata": {},
   "outputs": [
    {
     "name": "stdout",
     "output_type": "stream",
     "text": [
      "Merge made by the 'recursive' strategy.\n",
      " bibliography/.placeholder.md         |    1 +\n",
      " bibliography/biblio.bib              |   10 +\n",
      " figures/EHRA/EHRA.jpg                |  Bin 0 -> 13790 bytes\n",
      " figures/EHRA/EHRA.png                |  Bin 0 -> 9148 bytes\n",
      " figures/EHRA/caption.html            |    1 +\n",
      " figures/EHRA/config.yml              |   20 +\n",
      " figures/bigdata2a/bigdata2a.csv      |  407 ++++++++++\n",
      " figures/bigdata2a/caption.html       |    1 +\n",
      " figures/bigdata2a/config.yml         |   21 +\n",
      " figures/bigdata2a/testing_this.ipynb | 1460 ++++++++++++++++++++++++++++++++++\n",
      " figures/concept/caption.html         |    1 +\n",
      " figures/concept/concept.jpg          |  Bin 0 -> 12774 bytes\n",
      " figures/concept/concept.png          |  Bin 0 -> 13173 bytes\n",
      " figures/concept/config.yml           |   20 +\n",
      " figures/concept/testing_this.ipynb   | 1460 ++++++++++++++++++++++++++++++++++\n",
      " layout.md                            |    4 +\n",
      " rl7omb9o3f.html                      |    1 +\n",
      " title.html                           |    1 +\n",
      " untitled.html                        |    1 +\n",
      " 19 files changed, 3409 insertions(+)\n",
      " create mode 100644 bibliography/.placeholder.md\n",
      " create mode 100644 bibliography/biblio.bib\n",
      " create mode 100644 figures/EHRA/EHRA.jpg\n",
      " create mode 100644 figures/EHRA/EHRA.png\n",
      " create mode 100644 figures/EHRA/caption.html\n",
      " create mode 100644 figures/EHRA/config.yml\n",
      " create mode 100644 figures/bigdata2a/bigdata2a.csv\n",
      " create mode 100644 figures/bigdata2a/caption.html\n",
      " create mode 100644 figures/bigdata2a/config.yml\n",
      " create mode 100644 figures/bigdata2a/testing_this.ipynb\n",
      " create mode 100644 figures/concept/caption.html\n",
      " create mode 100644 figures/concept/concept.jpg\n",
      " create mode 100644 figures/concept/concept.png\n",
      " create mode 100644 figures/concept/config.yml\n",
      " create mode 100644 figures/concept/testing_this.ipynb\n",
      " create mode 100644 layout.md\n",
      " create mode 100644 rl7omb9o3f.html\n",
      " create mode 100644 title.html\n",
      " create mode 100644 untitled.html\n"
     ]
    },
    {
     "name": "stderr",
     "output_type": "stream",
     "text": [
      "From https://github.com/arinbasu/A-primer-on-reproducible-research-using-colaboratory-and-Authorea-in-computational-population-health\n",
      " * branch            master     -> FETCH_HEAD\n"
     ]
    }
   ],
   "source": [
    "%%bash\n",
    "git pull origin master --allow-unrelated-histories"
   ]
  },
  {
   "cell_type": "code",
   "execution_count": 25,
   "metadata": {},
   "outputs": [
    {
     "name": "stdout",
     "output_type": "stream",
     "text": [
      "bigdata2a.csv\n",
      "myhist.jpg\n",
      "testing_this.ipynb\n"
     ]
    }
   ],
   "source": [
    "%%bash\n",
    "ls"
   ]
  },
  {
   "cell_type": "code",
   "execution_count": 26,
   "metadata": {},
   "outputs": [
    {
     "name": "stdout",
     "output_type": "stream",
     "text": [
      "/Users/arindambose/Documents/repro_res\n"
     ]
    }
   ],
   "source": [
    "%%bash\n",
    "pwd"
   ]
  },
  {
   "cell_type": "code",
   "execution_count": 28,
   "metadata": {},
   "outputs": [
    {
     "name": "stdout",
     "output_type": "stream",
     "text": [
      "Already up-to-date.\n"
     ]
    },
    {
     "name": "stderr",
     "output_type": "stream",
     "text": [
      "From https://github.com/arinbasu/A-primer-on-reproducible-research-using-colaboratory-and-Authorea-in-computational-population-health\n",
      " * branch            master     -> FETCH_HEAD\n"
     ]
    }
   ],
   "source": [
    "%%bash\n",
    "git pull origin master"
   ]
  },
  {
   "cell_type": "code",
   "execution_count": null,
   "metadata": {},
   "outputs": [],
   "source": [
    "%%bash\n",
    "ls"
   ]
  }
 ],
 "metadata": {
  "colab": {
   "default_view": {},
   "name": "testing_this.ipynb",
   "provenance": [],
   "version": "0.3.2",
   "views": {}
  },
  "kernelspec": {
   "display_name": "Python 3",
   "language": "python",
   "name": "python3"
  },
  "language_info": {
   "codemirror_mode": {
    "name": "ipython",
    "version": 3
   },
   "file_extension": ".py",
   "mimetype": "text/x-python",
   "name": "python",
   "nbconvert_exporter": "python",
   "pygments_lexer": "ipython3",
   "version": "3.6.3"
  }
 },
 "nbformat": 4,
 "nbformat_minor": 2
}
